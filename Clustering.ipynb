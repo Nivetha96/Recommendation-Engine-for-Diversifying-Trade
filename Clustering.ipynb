{
  "nbformat": 4,
  "nbformat_minor": 0,
  "metadata": {
    "colab": {
      "name": "Clustering.ipynb",
      "provenance": [],
      "collapsed_sections": []
    },
    "kernelspec": {
      "name": "python3",
      "display_name": "Python 3"
    }
  },
  "cells": [
    {
      "cell_type": "markdown",
      "metadata": {
        "id": "dYCojQkJ_S1E",
        "colab_type": "text"
      },
      "source": [
        "## **Problem Statment**\n",
        "\n",
        "Develop a recommendation engine for firms across the world that help them diversify their imports and exports\n",
        "\n",
        "**DATA SOURCES**\n",
        "\n",
        "1. WTO - Billateral trade data for the past 17 years\n",
        "2. CPEII - Distance and Gravity data\n",
        "\n",
        "**Approach**\n",
        "\n",
        "1. Run tSNE to identify clusters within the data in high dimensional space\n",
        "2. Run clusting algorithm (DBSCAN) to identify clusters - currently running for 1 product\n",
        "2. Build a Neural Net to unmask relationship between the features and recommend.\n",
        "\n",
        "**Features**\n",
        "1. GDP\n",
        "2. Distance between countries\n",
        "3. Trading routes - currently not incoporated\n",
        "4. Output capacity of suppliers\n",
        "5. No.Trading partners\n",
        "6. Products\n",
        "7. Year\n",
        "8. Gravity between countries - currently not incoporated"
      ]
    },
    {
      "cell_type": "code",
      "metadata": {
        "id": "S_ZeCPfxJ3UM",
        "colab_type": "code",
        "colab": {}
      },
      "source": [
        "import pandas as pd\n",
        "import numpy as np\n",
        "import matplotlib.pyplot as plt\n",
        "from sklearn import preprocessing\n",
        "from sklearn.cluster import DBSCAN\n",
        "from sklearn.preprocessing import StandardScaler\n",
        "from sklearn.manifold import TSNE\n",
        "import seaborn as sns\n",
        "%matplotlib inline"
      ],
      "execution_count": 0,
      "outputs": []
    },
    {
      "cell_type": "code",
      "metadata": {
        "id": "wVD09Tb3KrA-",
        "colab_type": "code",
        "colab": {}
      },
      "source": [
        "from google.colab import drive\n",
        "drive.mount('/datathon')"
      ],
      "execution_count": 0,
      "outputs": []
    },
    {
      "cell_type": "code",
      "metadata": {
        "id": "B-Go6FYYMFqj",
        "colab_type": "code",
        "colab": {}
      },
      "source": [
        "data = pd.read_csv('/Data.csv',encoding='iso-8859-1')"
      ],
      "execution_count": 0,
      "outputs": []
    },
    {
      "cell_type": "markdown",
      "metadata": {
        "id": "i3e64rpGFjzy",
        "colab_type": "text"
      },
      "source": [
        "Analyze for a particular product group : Apparels in this case"
      ]
    },
    {
      "cell_type": "code",
      "metadata": {
        "id": "etFQ30xFNyyh",
        "colab_type": "code",
        "colab": {}
      },
      "source": [
        "data['Product Group'] = (data['Product/Sector Code'] >= 50) & (data['Product/Sector Code'] <= 67)"
      ],
      "execution_count": 0,
      "outputs": []
    },
    {
      "cell_type": "code",
      "metadata": {
        "id": "JlK5YkJSS-YY",
        "colab_type": "code",
        "colab": {}
      },
      "source": [
        "le = preprocessing.LabelEncoder()\n",
        "data['Partner Economy Label'] = le.fit_transform(data['Partner Economy'])\n",
        "data['Product Sector Label'] = le.fit_transform(data['Product/Sector'])\n",
        "data['Product Group Label'] = le.fit_transform(data['Product Group'])"
      ],
      "execution_count": 0,
      "outputs": []
    },
    {
      "cell_type": "code",
      "metadata": {
        "id": "LRvNf7oW5bBy",
        "colab_type": "code",
        "colab": {}
      },
      "source": [
        "#data_filter= data[data['Product Group Label'] == 1]\n",
        "#data_filter = data_filter[data_filter['Value'] < 100000000]\n",
        "data_filter = data_filter.fillna(0)"
      ],
      "execution_count": 0,
      "outputs": []
    },
    {
      "cell_type": "markdown",
      "metadata": {
        "id": "BWkxBdgJEk6P",
        "colab_type": "text"
      },
      "source": [
        "Features selected for Clustering: Output of the Origin Firm, # Trading Partners, Distiance between Origin and Destinatin Countrym GDP of countries, whether they share colonial past, Presence of HSBC"
      ]
    },
    {
      "cell_type": "code",
      "metadata": {
        "id": "NiDV-m2bUX7Z",
        "colab_type": "code",
        "colab": {}
      },
      "source": [
        "final_df = data_filter[['Partner Economy Label','Product Sector Label','Value','Origin output','#trading partners','distance between origin and destination','colonised(1/0)','gdp of source','hsbc presence in destination']]"
      ],
      "execution_count": 0,
      "outputs": []
    },
    {
      "cell_type": "code",
      "metadata": {
        "id": "gmTvZaFSWHfN",
        "colab_type": "code",
        "colab": {}
      },
      "source": [
        "final_df['Value']=final_df['Value'].astype(float)\n",
        "final_df['gdp of source']=final_df['gdp of source'].astype(float)"
      ],
      "execution_count": 0,
      "outputs": []
    },
    {
      "cell_type": "code",
      "metadata": {
        "id": "HYjiiKPqz9K9",
        "colab_type": "code",
        "colab": {}
      },
      "source": [
        "X = final_df[['Origin output','gdp of source','Value','#trading partners','distance between origin and destination','hsbc presence in destination']]\n",
        "\n",
        "#X['Scaled Origin output'] = StandardScaler().fit_transform(X[['Origin output']])\n",
        "#X['Scaled gdp of source'] = StandardScaler().fit_transform(X[['gdp of source']])\n",
        "#X['Scaled Value'] = StandardScaler().fit_transform(X[['Value']])\n",
        "\n",
        "#X = X[['Scaled Origin output','Scaled gdp of source','Scaled Value','#trading partners','distance between origin and destination','hsbc presence in destination']]"
      ],
      "execution_count": 0,
      "outputs": []
    },
    {
      "cell_type": "code",
      "metadata": {
        "id": "j_Y5nlzbXTzv",
        "colab_type": "code",
        "colab": {}
      },
      "source": [
        "final_df = data[['Value','Supplier Output','#Trading Partners - Supplier','Distance','Importing Economy GDP','Supplier Economy GDP','FTA','import_duty']]\n",
        "\n",
        "final_df=final_df.fillna(0)\n",
        "final_df['Scaled Origin Output'] = StandardScaler().fit_transform(final_df[['Supplier Output']])\n",
        "final_df['scaled distance between origin and destination'] = StandardScaler().fit_transform(final_df[['Distance']])\n",
        "final_df['Scaled Reporting Economy GDP'] = StandardScaler().fit_transform(final_df[['Importing Economy GDP']])\n",
        "final_df['Scaled Partner Economy GDP'] = StandardScaler().fit_transform(final_df[['Supplier Economy GDP']])\n",
        "final_df['Scaled Value'] = StandardScaler().fit_transform(final_df[['Value']])\n",
        "#final_df['Scaled #trading partners'] = StandardScaler().fit_transform(final_df[['#Trading Partners - Supplier']])\n",
        "#final_df['Scaled import_duty'] = StandardScaler().fit_transform(final_df[['import_duty']])\n"
      ],
      "execution_count": 0,
      "outputs": []
    },
    {
      "cell_type": "code",
      "metadata": {
        "id": "_A1EJf5HXVla",
        "colab_type": "code",
        "colab": {}
      },
      "source": [
        "X = final_df[['Scaled Origin Output','scaled distance between origin and destination','Scaled Reporting Economy GDP','Scaled Partner Economy GDP']]\n",
        "              #,'Scaled #trading partners']]\n",
        "              #,'FTA','Scaled import_duty']]"
      ],
      "execution_count": 0,
      "outputs": []
    },
    {
      "cell_type": "code",
      "metadata": {
        "id": "uCIDyyV3Umi2",
        "colab_type": "code",
        "colab": {}
      },
      "source": [
        "X_embedded = TSNE(n_components=2).fit_transform(X)\n",
        "df_tsne = pd.DataFrame()\n",
        "df_tsne['oned'] = X_embedded[:,0]\n",
        "df_tsne['twod'] = X_embedded[:,1]"
      ],
      "execution_count": 0,
      "outputs": []
    },
    {
      "cell_type": "code",
      "metadata": {
        "id": "iHM9VhuEETvk",
        "colab_type": "code",
        "colab": {}
      },
      "source": [
        "plt.figure(figsize=(16,10))\n",
        "sns.scatterplot(x=df_tsne['oned'],y=df_tsne['twod'],data=df_tsne,alpha=0.3)"
      ],
      "execution_count": 0,
      "outputs": []
    },
    {
      "cell_type": "code",
      "metadata": {
        "id": "SURCv9vDUtD7",
        "colab_type": "code",
        "colab": {}
      },
      "source": [
        "cluster = DBSCAN(eps=0.1,min_samples=3).fit_predict(X)"
      ],
      "execution_count": 0,
      "outputs": []
    },
    {
      "cell_type": "code",
      "metadata": {
        "id": "g62btrmaU4Sz",
        "colab_type": "code",
        "colab": {}
      },
      "source": [
        "plt.subplot(3,1,1)\n",
        "plt.scatter(X['scaled distance between origin and destination'],X['Scaled Origin Output'],c=cluster,cmap=\"plasma\")\n",
        "\n",
        "'''\n",
        "plt.subplot(3,1,2)\n",
        "plt.scatter(final_df['Origin output'],final_df['Product Sector Label'],c=cluster,cmap=\"plasma\")\n",
        "\n",
        "plt.subplot(3,1,3)\n",
        "plt.scatter(final_df['#trading partners'],final_df['Product Sector Label'],c=cluster,cmap=\"plasma\")\n",
        "'''\n",
        "\n",
        "plt.show()"
      ],
      "execution_count": 0,
      "outputs": []
    },
    {
      "cell_type": "code",
      "metadata": {
        "id": "LVuk5sRzMXCt",
        "colab_type": "code",
        "colab": {}
      },
      "source": [
        "final_df['color'] = final_df['Partner Economy Label'].apply(lambda x : 'Green' if x == 24 else 'Red')"
      ],
      "execution_count": 0,
      "outputs": []
    },
    {
      "cell_type": "code",
      "metadata": {
        "id": "9vqR6P-Nimkd",
        "colab_type": "code",
        "colab": {}
      },
      "source": [
        "final_us = final_df[final_df['Partner Economy Label']==24]\n",
        "final_ban = final_df[final_df['Partner Economy Label']==12]\n"
      ],
      "execution_count": 0,
      "outputs": []
    },
    {
      "cell_type": "code",
      "metadata": {
        "id": "EN0PdA_CWRq5",
        "colab_type": "code",
        "colab": {}
      },
      "source": [
        "plt.subplot(2,1,1)\n",
        "plt.scatter(final_us['Origin output'],final_us['#trading partners'],c=final_us['color'],cmap=\"plasma\")\n",
        "\n",
        "plt.subplot(2,1,2)\n",
        "plt.scatter(final_ban['Origin output'],final_ban['#trading partners'],c=final_ban['color'],cmap=\"plasma\")\n",
        "\n",
        "\n",
        "plt.show()"
      ],
      "execution_count": 0,
      "outputs": []
    },
    {
      "cell_type": "code",
      "metadata": {
        "id": "eI_L3GESgHqv",
        "colab_type": "code",
        "colab": {}
      },
      "source": [
        ""
      ],
      "execution_count": 0,
      "outputs": []
    },
    {
      "cell_type": "code",
      "metadata": {
        "id": "sAQ1pJZCWVEY",
        "colab_type": "code",
        "colab": {}
      },
      "source": [
        "final_df[final_df['Partner Economy Label'] == 26]"
      ],
      "execution_count": 0,
      "outputs": []
    },
    {
      "cell_type": "code",
      "metadata": {
        "id": "A69S96eIJrWo",
        "colab_type": "code",
        "colab": {}
      },
      "source": [
        "data_filter.reset_index(drop=True,inplace=True)\n"
      ],
      "execution_count": 0,
      "outputs": []
    },
    {
      "cell_type": "code",
      "metadata": {
        "id": "yAY_CIkmUN_W",
        "colab_type": "code",
        "colab": {}
      },
      "source": [
        "data_filter['cluster'] = pd.Series(cluster)"
      ],
      "execution_count": 0,
      "outputs": []
    },
    {
      "cell_type": "code",
      "metadata": {
        "id": "jYaaIGsRdA2w",
        "colab_type": "code",
        "colab": {}
      },
      "source": [
        "data_filter.to_excel('/content/output.xlsx')"
      ],
      "execution_count": 0,
      "outputs": []
    },
    {
      "cell_type": "code",
      "metadata": {
        "id": "CvkgDkKrdbi7",
        "colab_type": "code",
        "colab": {}
      },
      "source": [
        ""
      ],
      "execution_count": 0,
      "outputs": []
    }
  ]
}